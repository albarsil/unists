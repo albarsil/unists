{
 "cells": [
  {
   "cell_type": "code",
   "execution_count": 1,
   "metadata": {},
   "outputs": [],
   "source": [
    "from sklearn.neural_network import MLPClassifier\n",
    "import sklearn.metrics as metrics\n",
    "import pandas as pd\n",
    "import json\n",
    "import os\n",
    "import codecs\n",
    "from unidecode import unidecode\n",
    "import pickle\n",
    "import string\n",
    "import decimal\n",
    "import sys\n",
    "import pickle\n",
    "import pyodbc\n",
    "import sys\n",
    "import sklearn\n",
    "from collections import Counter\n",
    "from imblearn.over_sampling import SMOTE\n",
    "from sklearn.externals import joblib\n",
    "from pandas.io.sql import read_sql\n",
    "from sklearn.feature_selection import SelectKBest\n",
    "from sklearn.feature_selection import chi2\n",
    "from nltk.stem.snowball import PortugueseStemmer\n",
    "import re\n",
    "import math\n",
    "import numpy as np\n",
    "import os.path\n",
    "from imblearn.over_sampling import SMOTE\n",
    "from imblearn.over_sampling import ADASYN\n",
    "from imblearn.over_sampling import RandomOverSampler \n",
    "from sklearn.model_selection import RandomizedSearchCV\n",
    "from sklearn.model_selection import GridSearchCV\n",
    "from sklearn.metrics import cohen_kappa_score, make_scorer\n",
    "from sklearn import preprocessing\n",
    "import codecs\n",
    "from sklearn.svm import SVR\n",
    "from scipy.stats import pearsonr, spearmanr\n",
    "from sklearn.model_selection import cross_val_score\n",
    "from sklearn import feature_selection\n",
    "from sklearn.decomposition import PCA\n",
    "from sklearn.ensemble import RandomForestRegressor\n",
    "from sklearn import linear_model\n",
    "from sklearn.neural_network import MLPRegressor\n",
    "import math\n",
    "from catboost import CatBoostRegressor"
   ]
  },
  {
   "cell_type": "code",
   "execution_count": 2,
   "metadata": {},
   "outputs": [],
   "source": [
    "def json_to_dataframe(path):\n",
    "    with codecs.open(path, 'r', encoding='utf-8') as reader:\n",
    "        d = json.load(reader)\n",
    "    return pd.DataFrame.from_dict(d)"
   ]
  },
  {
   "cell_type": "code",
   "execution_count": 3,
   "metadata": {},
   "outputs": [],
   "source": [
    "def l2normalize(xdf):\n",
    "    return pd.DataFrame(preprocessing.normalize(xdf, norm='l2', axis=1, copy=True, return_norm=False),\n",
    "             columns=xdf.columns, index=xdf.index)"
   ]
  },
  {
   "cell_type": "code",
   "execution_count": 4,
   "metadata": {},
   "outputs": [],
   "source": [
    "def print_result(gold_values, sys_values, name):\n",
    "    \"\"\"Docstring.\"\"\"\n",
    "    pearson = pearsonr(gold_values, sys_values)[0]\n",
    "    spearman = spearmanr(gold_values, sys_values)[0]\n",
    "    absolute_diff = gold_values - sys_values\n",
    "    mse = (absolute_diff ** 2).mean()\n",
    "\n",
    "    print()\n",
    "    print('Similarity evaluation\\t' + name)\n",
    "    print('Pearson\\t\\tSpearman\\t\\tMean Squared Error')\n",
    "    print('-------\\t\\t-------\\t\\t------------------')\n",
    "    print('{:7.2f}\\t\\t{:7.2f}\\t\\t{:18.2f}'.format(pearson,spearman,mse))"
   ]
  },
  {
   "cell_type": "code",
   "execution_count": 5,
   "metadata": {},
   "outputs": [],
   "source": [
    "def dump_json(outputpath, x):\n",
    "    t = dict()\n",
    "    t['y_predicted'] = x.tolist()\n",
    "    with codecs.open(outputpath, 'w', encoding='utf-8') as writer:\n",
    "        json.dump(t, writer)"
   ]
  },
  {
   "cell_type": "code",
   "execution_count": 6,
   "metadata": {},
   "outputs": [],
   "source": [
    "homepath = 'C:/Users/barcelosallan/{0}/{1}'\n",
    "default_settings = 'Dropbox/unisinos-pipca-aleksejs-allan-sandro/Data/Processed/GloVe/'\n",
    "synonym_settings = 'Dropbox/unisinos-pipca-aleksejs-allan-sandro/Data/Processed/GloVe/linguistic_relations/Synonyms/'\n",
    "synonym_hyperonym_settings = 'Dropbox/unisinos-pipca-aleksejs-allan-sandro/Data/Processed/GloVe/linguistic_relations/Synonyms_and_Hyperonyms/'\n",
    "predictions_settings = 'Dropbox/unisinos-pipca-aleksejs-allan-sandro/Predictions/Glove/NILC_300million_1000window'\n",
    "\n",
    "extension_processed_file = 'svm-clear-setEP{0}_setEP{1}.json'\n",
    "extension_synonym_file = 'setP{0}-synonym_processed.json'\n",
    "extension_hyponym = 'setE{0}-synonym-hyperonym_processed.json'\n",
    "extension_processed_synonym_file = 'svm-synonym-setEP{0}_setEP{1}.json'\n",
    "extension_processed_hyperonym_file = 'svm-synonym_hyperonym-setEP{0}_setEP{1}.json'\n",
    "extension_default_file = 'setP{0}_processed.json'\n",
    "extension_final_file = 'A3_{0}.json'\n"
   ]
  },
  {
   "cell_type": "code",
   "execution_count": 7,
   "metadata": {},
   "outputs": [],
   "source": [
    "setEPX = json_to_dataframe(homepath.format(synonym_settings, extension_synonym_file.format(1)))"
   ]
  },
  {
   "cell_type": "code",
   "execution_count": 8,
   "metadata": {},
   "outputs": [],
   "source": [
    "setEPY = json_to_dataframe(homepath.format(synonym_settings, extension_synonym_file.format(3)))"
   ]
  },
  {
   "cell_type": "code",
   "execution_count": 9,
   "metadata": {},
   "outputs": [],
   "source": [
    "drop_columns = ['index', 'antonyms']\n",
    "\n",
    "setEPX.sort_values('index', inplace=True, ascending=True)\n",
    "setEPY.sort_values('index', inplace=True, ascending=True)\n",
    "\n",
    "for x in drop_columns:\n",
    "    if x in setEPX.columns:\n",
    "        setEPX.drop(x, axis=1, inplace=True)\n",
    "        setEPY.drop(x, axis=1, inplace=True)"
   ]
  },
  {
   "cell_type": "code",
   "execution_count": 10,
   "metadata": {},
   "outputs": [],
   "source": [
    "x_train = setEPX.drop('target', 1)\n",
    "y_train = [float(x) for x in setEPX['target'].tolist()]\n",
    "x_test = setEPY.drop('target', 1)\n",
    "y_test = [float(x) for x in setEPY['target'].tolist()]"
   ]
  },
  {
   "cell_type": "code",
   "execution_count": 11,
   "metadata": {},
   "outputs": [],
   "source": [
    "#x_train = l2normalize(x_train)\n",
    "#x_test = l2normalize(x_test)"
   ]
  },
  {
   "cell_type": "code",
   "execution_count": 12,
   "metadata": {},
   "outputs": [],
   "source": [
    "x_train = x_train[['embeddings_diff', 'tfidf', 'ngram_proportion', 'word_overlap']]\n",
    "x_test = x_test[['embeddings_diff', 'tfidf', 'ngram_proportion', 'word_overlap']]"
   ]
  },
  {
   "cell_type": "code",
   "execution_count": 13,
   "metadata": {},
   "outputs": [
    {
     "name": "stdout",
     "output_type": "stream",
     "text": [
      "\n",
      "Similarity evaluation\tSVR RBF\n",
      "Pearson\t\tSpearman\t\tMean Squared Error\n",
      "-------\t\t-------\t\t------------------\n",
      "   0.66\t\t   0.64\t\t              0.43\n"
     ]
    }
   ],
   "source": [
    "model_ml = SVR(kernel='poly', gamma=0.5, epsilon=0.1, C=1)\n",
    "y_predicted = model_ml.fit(x_train, y_train).predict(x_test)\n",
    "print_result(y_test, y_predicted, 'SVR RBF')"
   ]
  },
  {
   "cell_type": "code",
   "execution_count": 14,
   "metadata": {},
   "outputs": [
    {
     "name": "stdout",
     "output_type": "stream",
     "text": [
      "\n",
      "Similarity evaluation\tSVR RBF\n",
      "Pearson\t\tSpearman\t\tMean Squared Error\n",
      "-------\t\t-------\t\t------------------\n",
      "   0.65\t\t   0.64\t\t              0.44\n"
     ]
    }
   ],
   "source": [
    "model_ml = SVR(kernel='rbf')\n",
    "y_predicted = model_ml.fit(x_train, y_train).predict(x_test)\n",
    "print_result(y_test, y_predicted, 'SVR RBF')"
   ]
  },
  {
   "cell_type": "code",
   "execution_count": 15,
   "metadata": {},
   "outputs": [
    {
     "name": "stdout",
     "output_type": "stream",
     "text": [
      "\n",
      "Similarity evaluation\tSVR RBF\n",
      "Pearson\t\tSpearman\t\tMean Squared Error\n",
      "-------\t\t-------\t\t------------------\n",
      "   0.65\t\t   0.64\t\t              0.44\n"
     ]
    }
   ],
   "source": [
    "model_ml = SVR(kernel='linear', C=1)\n",
    "y_predicted = model_ml.fit(x_train, y_train).predict(x_test)\n",
    "print_result(y_test, y_predicted, 'SVR RBF')"
   ]
  },
  {
   "cell_type": "code",
   "execution_count": 16,
   "metadata": {},
   "outputs": [
    {
     "name": "stdout",
     "output_type": "stream",
     "text": [
      "\n",
      "Similarity evaluation\tRandomForest\n",
      "Pearson\t\tSpearman\t\tMean Squared Error\n",
      "-------\t\t-------\t\t------------------\n",
      "   0.64\t\t   0.62\t\t              0.45\n"
     ]
    }
   ],
   "source": [
    "model_ml = RandomForestRegressor(n_estimators=500,n_jobs=-1,bootstrap=True)\n",
    "y_predicted = model_ml.fit(x_train, y_train).predict(x_test)\n",
    "print_result(y_test, y_predicted, 'RandomForest')"
   ]
  },
  {
   "cell_type": "code",
   "execution_count": 17,
   "metadata": {},
   "outputs": [
    {
     "name": "stdout",
     "output_type": "stream",
     "text": [
      "\n",
      "Similarity evaluation\tLinearRegression\n",
      "Pearson\t\tSpearman\t\tMean Squared Error\n",
      "-------\t\t-------\t\t------------------\n",
      "   0.66\t\t   0.65\t\t              0.43\n"
     ]
    }
   ],
   "source": [
    "model_ml = linear_model.LinearRegression(n_jobs=-1)\n",
    "y_predicted = model_ml.fit(x_train, y_train).predict(x_test)\n",
    "print_result(y_test, y_predicted, 'LinearRegression')"
   ]
  },
  {
   "cell_type": "code",
   "execution_count": 18,
   "metadata": {},
   "outputs": [
    {
     "name": "stdout",
     "output_type": "stream",
     "text": [
      "\n",
      "Similarity evaluation\tRidgeRegression\n",
      "Pearson\t\tSpearman\t\tMean Squared Error\n",
      "-------\t\t-------\t\t------------------\n",
      "   0.65\t\t   0.64\t\t              0.44\n"
     ]
    }
   ],
   "source": [
    "model_ml = linear_model.Ridge()\n",
    "y_predicted = model_ml.fit(x_train, y_train).predict(x_test)\n",
    "print_result(y_test, y_predicted, 'RidgeRegression')"
   ]
  },
  {
   "cell_type": "code",
   "execution_count": 19,
   "metadata": {},
   "outputs": [
    {
     "name": "stdout",
     "output_type": "stream",
     "text": [
      "\n",
      "Similarity evaluation\tBayesianRidgeRegression\n",
      "Pearson\t\tSpearman\t\tMean Squared Error\n",
      "-------\t\t-------\t\t------------------\n",
      "   0.66\t\t   0.64\t\t              0.43\n"
     ]
    }
   ],
   "source": [
    "model_ml = linear_model.BayesianRidge(n_iter=1000,normalize=False)\n",
    "y_predicted = model_ml.fit(x_train, y_train).predict(x_test)\n",
    "print_result(y_test, y_predicted, 'BayesianRidgeRegression')"
   ]
  },
  {
   "cell_type": "code",
   "execution_count": 20,
   "metadata": {},
   "outputs": [
    {
     "name": "stdout",
     "output_type": "stream",
     "text": [
      "\n",
      "Similarity evaluation\tElasticNet\n",
      "Pearson\t\tSpearman\t\tMean Squared Error\n",
      "-------\t\t-------\t\t------------------\n",
      "   0.65\t\t   0.64\t\t              0.44\n"
     ]
    }
   ],
   "source": [
    "model_ml = linear_model.ElasticNet(alpha=0.001, l1_ratio=0.5, fit_intercept=True, normalize=False, precompute=False, max_iter=1000, copy_X=True, tol=0.0001, warm_start=False, positive=False, random_state=None, selection='cyclic')\n",
    "y_predicted = model_ml.fit(x_train, y_train).predict(x_test)\n",
    "print_result(y_test, y_predicted, 'ElasticNet')"
   ]
  },
  {
   "cell_type": "code",
   "execution_count": 21,
   "metadata": {},
   "outputs": [
    {
     "name": "stdout",
     "output_type": "stream",
     "text": [
      "\n",
      "Similarity evaluation\tCatBoostRegressor\n",
      "Pearson\t\tSpearman\t\tMean Squared Error\n",
      "-------\t\t-------\t\t------------------\n",
      "   0.66\t\t   0.64\t\t              0.43\n"
     ]
    }
   ],
   "source": [
    "model_ml = CatBoostRegressor(learning_rate=0.012, depth=1, iterations=2500, verbose=False)\n",
    "y_predicted = model_ml.fit(x_train, y_train).predict(x_test)\n",
    "print_result(y_test, y_predicted, 'CatBoostRegressor')"
   ]
  }
 ],
 "metadata": {
  "kernelspec": {
   "display_name": "Python 3",
   "language": "python",
   "name": "python3"
  },
  "language_info": {
   "codemirror_mode": {
    "name": "ipython",
    "version": 3
   },
   "file_extension": ".py",
   "mimetype": "text/x-python",
   "name": "python",
   "nbconvert_exporter": "python",
   "pygments_lexer": "ipython3",
   "version": "3.6.4"
  }
 },
 "nbformat": 4,
 "nbformat_minor": 2
}
